{
 "cells": [
  {
   "cell_type": "markdown",
   "id": "01698c79-99b4-473b-b840-ec8bb35a361b",
   "metadata": {},
   "source": [
    "### Import"
   ]
  },
  {
   "cell_type": "code",
   "execution_count": 1,
   "id": "586c19f1-076c-46c7-8be4-fa362c86b32c",
   "metadata": {},
   "outputs": [],
   "source": [
    "import torch\n",
    "from transformers import pipeline, RobertaTokenizer, RobertaForQuestionAnswering, AutoTokenizer, AutoModelForQuestionAnswering"
   ]
  },
  {
   "cell_type": "code",
   "execution_count": 2,
   "id": "6dc0ed46-d3fa-4d82-81bd-ba5babc5a5eb",
   "metadata": {},
   "outputs": [],
   "source": [
    "# Load tokenizer and model\n",
    "tokenizer = RobertaTokenizer.from_pretrained(\"./roberta_base_squad2\") \n",
    "model = RobertaForQuestionAnswering.from_pretrained(\"./roberta_base_squad2\") "
   ]
  },
  {
   "cell_type": "markdown",
   "id": "c11c273b-d499-4dfb-941d-73abbc7eaa21",
   "metadata": {},
   "source": [
    "### Run Model"
   ]
  },
  {
   "cell_type": "code",
   "execution_count": 3,
   "id": "82675822-e65e-4e06-81b7-31bcd6fa20b7",
   "metadata": {},
   "outputs": [],
   "source": [
    "# Define the QA pipeline\n",
    "qa_pipeline = pipeline(\"question-answering\", model=model, tokenizer=tokenizer)"
   ]
  },
  {
   "cell_type": "code",
   "execution_count": 4,
   "id": "bc5b6154-9150-41f5-addc-80ac78adbda1",
   "metadata": {},
   "outputs": [],
   "source": [
    "# Example question and context\n",
    "question = \"How many parameters does BERT-large have?\"\n",
    "context = \"BERT-large is really big... it has 24-layers and an embedding size of 1,024, for a total of 340M parameters! Altogether it is 1.34GB, so expect it to take a couple minutes to download to your Colab instance.\""
   ]
  },
  {
   "cell_type": "code",
   "execution_count": 5,
   "id": "f491a085-6729-4ec1-b5b8-b4b2e6c25df3",
   "metadata": {},
   "outputs": [],
   "source": [
    "# Perform question answering\n",
    "result = qa_pipeline(question=question, context=context)"
   ]
  },
  {
   "cell_type": "code",
   "execution_count": 6,
   "id": "b851a0a8-7917-4b2c-9c0f-0d98ab947fcf",
   "metadata": {},
   "outputs": [
    {
     "name": "stdout",
     "output_type": "stream",
     "text": [
      "Answer: 1,024,\n",
      "Score: 0.002748569007962942\n",
      "Start: 70\n",
      "End: 76\n"
     ]
    }
   ],
   "source": [
    "# Print the answer\n",
    "print(\"Answer:\", result['answer'])\n",
    "print(\"Score:\", result['score'])\n",
    "print(\"Start:\", result['start'])\n",
    "print(\"End:\", result['end'])"
   ]
  }
 ],
 "metadata": {
  "kernelspec": {
   "display_name": "Python 3 (ipykernel)",
   "language": "python",
   "name": "python3"
  },
  "language_info": {
   "codemirror_mode": {
    "name": "ipython",
    "version": 3
   },
   "file_extension": ".py",
   "mimetype": "text/x-python",
   "name": "python",
   "nbconvert_exporter": "python",
   "pygments_lexer": "ipython3",
   "version": "3.11.7"
  }
 },
 "nbformat": 4,
 "nbformat_minor": 5
}
