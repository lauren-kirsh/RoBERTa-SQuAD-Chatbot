{
 "cells": [
  {
   "cell_type": "markdown",
   "id": "0816a983-b799-4f53-a5f6-1e32f7b23bc7",
   "metadata": {},
   "source": [
    "### Install"
   ]
  },
  {
   "cell_type": "code",
   "execution_count": 2,
   "id": "da68c39c-c9be-47bd-b1c6-7a91c22958b8",
   "metadata": {},
   "outputs": [
    {
     "name": "stdout",
     "output_type": "stream",
     "text": [
      "Collecting torch\n",
      "  Downloading torch-2.2.1-cp311-none-macosx_10_9_x86_64.whl.metadata (25 kB)\n",
      "Requirement already satisfied: filelock in /opt/anaconda3/lib/python3.11/site-packages (from torch) (3.13.1)\n",
      "Requirement already satisfied: typing-extensions>=4.8.0 in /opt/anaconda3/lib/python3.11/site-packages (from torch) (4.9.0)\n",
      "Requirement already satisfied: sympy in /opt/anaconda3/lib/python3.11/site-packages (from torch) (1.12)\n",
      "Requirement already satisfied: networkx in /opt/anaconda3/lib/python3.11/site-packages (from torch) (3.1)\n",
      "Requirement already satisfied: jinja2 in /opt/anaconda3/lib/python3.11/site-packages (from torch) (3.1.3)\n",
      "Requirement already satisfied: fsspec in /opt/anaconda3/lib/python3.11/site-packages (from torch) (2023.10.0)\n",
      "Requirement already satisfied: MarkupSafe>=2.0 in /opt/anaconda3/lib/python3.11/site-packages (from jinja2->torch) (2.1.3)\n",
      "Requirement already satisfied: mpmath>=0.19 in /opt/anaconda3/lib/python3.11/site-packages (from sympy->torch) (1.3.0)\n",
      "Downloading torch-2.2.1-cp311-none-macosx_10_9_x86_64.whl (150.8 MB)\n",
      "\u001b[2K   \u001b[90m━━━━━━━━━━━━━━━━━━━━━━━━━━━━━━━━━━━━━━━━\u001b[0m \u001b[32m150.8/150.8 MB\u001b[0m \u001b[31m4.3 MB/s\u001b[0m eta \u001b[36m0:00:00\u001b[0m00:01\u001b[0m00:01\u001b[0mm\n",
      "\u001b[?25hInstalling collected packages: torch\n",
      "Successfully installed torch-2.2.1\n"
     ]
    }
   ],
   "source": [
    "!pip install torch"
   ]
  },
  {
   "cell_type": "code",
   "execution_count": null,
   "id": "596659cb-7e1d-4a67-9319-cc2cb6cd7ed2",
   "metadata": {},
   "outputs": [],
   "source": [
    "!pip install transformers"
   ]
  },
  {
   "cell_type": "markdown",
   "id": "01698c79-99b4-473b-b840-ec8bb35a361b",
   "metadata": {},
   "source": [
    "### Import"
   ]
  },
  {
   "cell_type": "code",
   "execution_count": 1,
   "id": "586c19f1-076c-46c7-8be4-fa362c86b32c",
   "metadata": {},
   "outputs": [],
   "source": [
    "import torch\n",
    "from transformers import pipeline, RobertaTokenizer, RobertaForQuestionAnswering, AutoTokenizer, AutoModelForQuestionAnswering"
   ]
  },
  {
   "cell_type": "code",
   "execution_count": 2,
   "id": "6dc0ed46-d3fa-4d82-81bd-ba5babc5a5eb",
   "metadata": {},
   "outputs": [],
   "source": [
    "# Load tokenizer and model\n",
    "#tokenizer = RobertaTokenizer.from_pretrained(\"./roberta_base_squad2\") \n",
    "#model = RobertaForQuestionAnswering.from_pretrained(\"./roberta_base_squad2\") \n",
    "tokenizer = AutoTokenizer.from_pretrained(\"./test_1\") \n",
    "model = AutoModelForQuestionAnswering.from_pretrained(\"./test_1\") "
   ]
  },
  {
   "cell_type": "markdown",
   "id": "c11c273b-d499-4dfb-941d-73abbc7eaa21",
   "metadata": {},
   "source": [
    "### Run Model"
   ]
  },
  {
   "cell_type": "code",
   "execution_count": 3,
   "id": "82675822-e65e-4e06-81b7-31bcd6fa20b7",
   "metadata": {},
   "outputs": [],
   "source": [
    "# Define the QA pipeline\n",
    "qa_pipeline = pipeline(\"question-answering\", model=model, tokenizer=tokenizer)"
   ]
  },
  {
   "cell_type": "code",
   "execution_count": 4,
   "id": "bc5b6154-9150-41f5-addc-80ac78adbda1",
   "metadata": {},
   "outputs": [],
   "source": [
    "# Example question and context\n",
    "#question = \"What is the capital of France?\"\n",
    "#context = \"The capital of France is Paris.\"\n",
    "question = \"How many parameters does BERT-large have?\"\n",
    "context = \"BERT-large is really big... it has 24-layers and an embedding size of 1,024, for a total of 340M parameters! Altogether it is 1.34GB, so expect it to take a couple minutes to download to your Colab instance.\""
   ]
  },
  {
   "cell_type": "code",
   "execution_count": 5,
   "id": "f491a085-6729-4ec1-b5b8-b4b2e6c25df3",
   "metadata": {},
   "outputs": [],
   "source": [
    "# Perform question answering\n",
    "result = qa_pipeline(question=question, context=context)"
   ]
  },
  {
   "cell_type": "code",
   "execution_count": 6,
   "id": "b851a0a8-7917-4b2c-9c0f-0d98ab947fcf",
   "metadata": {},
   "outputs": [
    {
     "name": "stdout",
     "output_type": "stream",
     "text": [
      "Answer: 1,024,\n",
      "Score: 0.002748569007962942\n",
      "Start: 70\n",
      "End: 76\n"
     ]
    }
   ],
   "source": [
    "# Print the answer\n",
    "print(\"Answer:\", result['answer'])\n",
    "print(\"Score:\", result['score'])\n",
    "print(\"Start:\", result['start'])\n",
    "print(\"End:\", result['end'])"
   ]
  }
 ],
 "metadata": {
  "kernelspec": {
   "display_name": "Python 3 (ipykernel)",
   "language": "python",
   "name": "python3"
  },
  "language_info": {
   "codemirror_mode": {
    "name": "ipython",
    "version": 3
   },
   "file_extension": ".py",
   "mimetype": "text/x-python",
   "name": "python",
   "nbconvert_exporter": "python",
   "pygments_lexer": "ipython3",
   "version": "3.11.7"
  }
 },
 "nbformat": 4,
 "nbformat_minor": 5
}
